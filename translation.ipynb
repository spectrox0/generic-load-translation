{
 "cells": [
  {
   "cell_type": "code",
   "execution_count": 1,
   "metadata": {},
   "outputs": [],
   "source": [
    "from sqlalchemy import create_engine,text\n",
    "import pandas as pd"
   ]
  },
  {
   "cell_type": "code",
   "execution_count": 2,
   "metadata": {},
   "outputs": [],
   "source": [
    "import os\n",
    "from dotenv import load_dotenv\n",
    "load_dotenv() \n",
    "DATABASE_URL=os.getenv('DB_URL')"
   ]
  },
  {
   "cell_type": "code",
   "execution_count": 3,
   "metadata": {},
   "outputs": [],
   "source": [
    "engine = create_engine(url=DATABASE_URL)"
   ]
  },
  {
   "cell_type": "code",
   "execution_count": 4,
   "metadata": {},
   "outputs": [
    {
     "name": "stdout",
     "output_type": "stream",
     "text": [
      "<sqlalchemy.engine.base.Connection object at 0x1152c3ee0>\n"
     ]
    }
   ],
   "source": [
    "# Test connection\n",
    "connection = engine.connect()\n",
    "print(connection)\n",
    "connection.close()"
   ]
  },
  {
   "cell_type": "code",
   "execution_count": 5,
   "metadata": {},
   "outputs": [
    {
     "name": "stdout",
     "output_type": "stream",
     "text": [
      "Index(['token', 'spanish', 'english', 'french', 'arab', 'kreyol', 'swahili'], dtype='object')\n",
      "                                 token  \\\n",
      "0           dizzb_error.invalid_msisdn   \n",
      "1              dizzb_error.invalid_pin   \n",
      "2              dizzb_error.pin_expired   \n",
      "3               dizzb_error.pin_in_use   \n",
      "4          dizzb_error.request_blocked   \n",
      "5      dizzb_error.user_already_active   \n",
      "6  dizzb_error.user_already_subscribed   \n",
      "7               form_active.btn_access   \n",
      "8             form_active.lbl_congrats   \n",
      "9              form_active.lbl_welcome   \n",
      "\n",
      "                                             spanish  \\\n",
      "0                   El número ingresado es inválido.   \n",
      "1                      El PIN ingresado es inválido.   \n",
      "2  El PIN ya expiró. Se ha enviado uno nuevo. Por...   \n",
      "3  Ya le enviamos un PIN. chequee en su bandeja d...   \n",
      "4             Ocurrió un error, vuelva a intentarlo.   \n",
      "5  ¡Tu suscripción ya está activa! Continua disfr...   \n",
      "6  ¡Tu suscripción ya está activa! Continua disfr...   \n",
      "7                                        Ir al sitio   \n",
      "8                          Ya te encuentras suscrito   \n",
      "9                                              Oops!   \n",
      "\n",
      "                                             english  \\\n",
      "0                     The number entered is invalid.   \n",
      "1                        The PIN entered is invalid.   \n",
      "2  The PIN has expired. A new one has been sent. ...   \n",
      "3  We have already sent you a PIN. Please check y...   \n",
      "4               An error occurred, please try again.   \n",
      "5  Your subscription is now active! Continue enjo...   \n",
      "6  Your subscription is now active! Continue enjo...   \n",
      "7                                    Go to the site.   \n",
      "8                        You are already subscribed.   \n",
      "9                                              Oops!   \n",
      "\n",
      "                                              french  \\\n",
      "0                      Le numéro entré est invalide.   \n",
      "1                    Le code PIN entré est invalide.   \n",
      "2  Le code PIN a expiré. Un nouveau a été envoyé....   \n",
      "3  Nous vous avons déjà envoyé un code PIN. Veuil...   \n",
      "4     Une erreur s'est produite, veuillez réessayer.   \n",
      "5  Votre abonnement est maintenant actif ! Contin...   \n",
      "6  Votre abonnement est maintenant actif ! Contin...   \n",
      "7                                     Aller au site.   \n",
      "8                             Vous êtes déjà abonné.   \n",
      "9                                             Oups !   \n",
      "\n",
      "                                                arab  \\\n",
      "0                             الرقم المدخل غير صالح.   \n",
      "1                             الرمز المدخل غير صالح.   \n",
      "2  الرمز انتهت صلاحيته. تم إرسال رمز جديد. من فضل...   \n",
      "3  لقد أرسلنا لك رمزًا بالفعل. يرجى التحقق من صند...   \n",
      "4                   حدث خطأ، يرجى المحاولة مرة أخرى.   \n",
      "5      اشتراكك نشط الآن! استمر في الاستمتاع بالخدمة.   \n",
      "6      اشتراكك نشط الآن! استمر في الاستمتاع بالخدمة.   \n",
      "7                                   اذهب إلى الموقع.   \n",
      "8                                  أنت مشترك بالفعل.   \n",
      "9                                             عذرًا!   \n",
      "\n",
      "                                              kreyol  \\\n",
      "0                              Nimewo antre a valab.   \n",
      "1                                 PIN antre a valab.   \n",
      "2  PIN nan ekspire. Yon nouvo voye. Tanpri antre li.   \n",
      "3  Nou deja voye yon PIN ba ou. Tanpri tcheke bwa...   \n",
      "4                 Yon erè te fèt, tanpri eseye ankò.   \n",
      "5  Abònman ou a kounye a aktif! Kontinye jwi sèvi...   \n",
      "6  Abònman ou a kounye a aktif! Kontinye jwi sèvi...   \n",
      "7                                    Ale nan sit la.   \n",
      "8                                     Ou deja abòne.   \n",
      "9                                              Oups!   \n",
      "\n",
      "                                             swahili  \n",
      "0                       Nambari uliyoweka si sahihi.  \n",
      "1                           PIN uliyoweka si sahihi.  \n",
      "2  PIN imeisha muda wake. Mpya imetumwa. Tafadhal...  \n",
      "3  Tayari tumekutumia PIN. Tafadhali angalia kika...  \n",
      "4          Hitilafu imetokea, tafadhali jaribu tena.  \n",
      "5  Usajili wako sasa ni hai! Endelea kufurahia hu...  \n",
      "6  Usajili wako sasa ni hai! Endelea kufurahia hu...  \n",
      "7                               Nenda kwenye tovuti.  \n",
      "8                             Umeshasajiliwa tayari.  \n",
      "9                                              Pole!  \n"
     ]
    }
   ],
   "source": [
    "file_path = './translation.xlsx'\n",
    "translations_df = pd.read_excel(file_path)\n",
    "\n",
    "# Convertir los nombres de las columnas a minúsculas\n",
    "translations_df.columns = [col.lower() for col in translations_df.columns]\n",
    "translations_df = translations_df.drop_duplicates(subset=['token'], keep='last')\n",
    "\n",
    "\n",
    "# Verifica que las columnas estén bien definidas\n",
    "print(translations_df.columns)  \n",
    "print(translations_df.head(10))"
   ]
  },
  {
   "cell_type": "code",
   "execution_count": 11,
   "metadata": {},
   "outputs": [],
   "source": [
    "# Obtener los grupos existentes en tr_group\n",
    "def get_existing_groups():\n",
    "    with engine.connect() as connection:\n",
    "        existing_groups = {}\n",
    "        try:\n",
    "            result = connection.execute(text(\"SELECT group_id, group_name FROM tr_group\"))\n",
    "            for row in result:\n",
    "                existing_groups[row[1]] = row[0]\n",
    "            return existing_groups\n",
    "        except Exception as e:\n",
    "            print(\"Error al obtener los grupos existentes en tr_group:\", e)\n",
    "            return None"
   ]
  },
  {
   "cell_type": "code",
   "execution_count": 12,
   "metadata": {},
   "outputs": [],
   "source": [
    "def get_existing_translations():\n",
    "    with engine.connect() as connection:\n",
    "        existing_translations = {}\n",
    "        try:\n",
    "            result = connection.execute(text(\"SELECT tr_group_id, language_id, translation_key FROM tr_translation\"))\n",
    "            for row in result:\n",
    "                existing_translations[(row[0], row[1], row[2])] = True\n",
    "            return existing_translations\n",
    "        except Exception as e:\n",
    "            print(\"Error al obtener las traducciones existentes en tr_translation:\", e)\n",
    "            return None"
   ]
  },
  {
   "cell_type": "code",
   "execution_count": 13,
   "metadata": {},
   "outputs": [
    {
     "name": "stdout",
     "output_type": "stream",
     "text": [
      "Nuevos grupos a insertar: set()\n",
      "Mapa de nuevos grupos: {}\n"
     ]
    }
   ],
   "source": [
    "existing_groups = get_existing_groups()\n",
    "\n",
    "# Obtener los prefijos de los tokens del CSV\n",
    "token_prefixes = set(row['token'].split('.')[0] for _, row in translations_df.iterrows())\n",
    "\n",
    "# Determinar los nuevos grupos que no están en tr_group\n",
    "new_groups = token_prefixes - set(existing_groups.keys())\n",
    "print(\"Nuevos grupos a insertar:\", new_groups)\n",
    "\n",
    "# Asignar IDs a los nuevos grupos\n",
    "if existing_groups:\n",
    "    max_existing_id = max(existing_groups.values())\n",
    "else:\n",
    "    max_existing_id = 0\n",
    "\n",
    "new_group_map = {group: max_existing_id + 1 + i for i, group in enumerate(new_groups)}\n",
    "print(\"Mapa de nuevos grupos:\", new_group_map)"
   ]
  },
  {
   "cell_type": "code",
   "execution_count": 14,
   "metadata": {},
   "outputs": [
    {
     "name": "stdout",
     "output_type": "stream",
     "text": [
      "[]\n"
     ]
    }
   ],
   "source": [
    "sql_statements_group = []\n",
    "for group_name, group_id in new_group_map.items():\n",
    "    sql = f\"\"\"\n",
    "    INSERT INTO tr_group (group_id, group_name, group_enabled, date_created, date_modified)\n",
    "    VALUES ({group_id}, '{group_name}', 1, CURRENT_TIMESTAMP, CURRENT_TIMESTAMP);\n",
    "    \"\"\"\n",
    "    sql_statements_group.append(sql)\n",
    "\n",
    "print(sql_statements_group)"
   ]
  },
  {
   "cell_type": "code",
   "execution_count": 15,
   "metadata": {},
   "outputs": [
    {
     "name": "stdout",
     "output_type": "stream",
     "text": [
      "Consultas de inserción ejecutadas con éxito.\n"
     ]
    }
   ],
   "source": [
    "# Ejecutar las consultas\n",
    "try:\n",
    "    with engine.connect() as connection:\n",
    "        for sql in sql_statements_group:\n",
    "            connection.execute(text(sql))\n",
    "        connection.commit()\n",
    "        print(\"Consultas de inserción ejecutadas con éxito.\")\n",
    "except Exception as e:\n",
    "    print(\"Error al ejecutar consultas de inserción:\", e)\n"
   ]
  },
  {
   "cell_type": "code",
   "execution_count": 16,
   "metadata": {},
   "outputs": [
    {
     "name": "stdout",
     "output_type": "stream",
     "text": [
      "Mapa de grupos actualizado: {'general_error': 1, 'opratel_error': 2, 'dizzb_error': 3, 'form_he': 4, 'form_signup': 5, 'form_requestpin': 6, 'form_active': 7, 'form_confirm': 8, 'form_doi': 9, 'rule_error': 10, 'form_error': 11, 'form_ok': 12, 'form_pin': 13}\n"
     ]
    }
   ],
   "source": [
    "new_group_map.update(existing_groups)\n",
    "print(\"Mapa de grupos actualizado:\", new_group_map)"
   ]
  },
  {
   "cell_type": "code",
   "execution_count": 17,
   "metadata": {},
   "outputs": [
    {
     "name": "stdout",
     "output_type": "stream",
     "text": [
      "Mapa de idiomas: {'es': 1, 'en': 2, 'ht': 3, 'sw': 4, 'ara': 5, 'fr': 6}\n"
     ]
    }
   ],
   "source": [
    "# Mapeo de language_name a language_id\n",
    "csv_to_locale = {\n",
    "    'en': 'english',\n",
    "    'es': 'spanish',\n",
    "    'ht' : 'kreyol',\n",
    "    'sw': 'swahili',\n",
    "    'ara':'arab',\n",
    "    'fr': 'french'\n",
    "}\n",
    "\n",
    "language_map = {}\n",
    "sql = \"\"\"\n",
    "SELECT language_id, language_locale FROM tr_language;\n",
    "\"\"\"\n",
    "try:\n",
    "    with engine.connect() as connection:\n",
    "        result = connection.execute(text(sql))\n",
    "        for row in result:\n",
    "            language_map[row[1]] = row[0]\n",
    "        print(\"Mapa de idiomas:\", language_map)\n",
    "except Exception as e:\n",
    "    print(\"Error al obtener el mapa de idiomas:\", e)\n",
    " "
   ]
  },
  {
   "cell_type": "code",
   "execution_count": 18,
   "metadata": {},
   "outputs": [],
   "source": [
    "import unicodedata\n",
    "def normalize_and_compare(text1:str, text2:str) -> bool:\n",
    "    def normalize_text(text:str):\n",
    "        # Normaliza el texto usando la forma NFC\n",
    "        normalized = unicodedata.normalize('NFC', text)\n",
    "        # Elimina los espacios en blanco al inicio y al final\n",
    "        stripped = normalized.strip()\n",
    "        # Convierte el texto a minúsculas\n",
    "        lowercased = stripped.lower()\n",
    "        return lowercased\n",
    "    \n",
    "    normalized_text1 = normalize_text(text1)\n",
    "    normalized_text2 = normalize_text(text2)\n",
    "    \n",
    "    return normalized_text1 == normalized_text2"
   ]
  },
  {
   "cell_type": "code",
   "execution_count": 20,
   "metadata": {},
   "outputs": [
    {
     "name": "stdout",
     "output_type": "stream",
     "text": [
      "Total consultas de inserción en tr_translation: 4\n",
      "\n",
      "                            INSERT INTO tr_translation (language_id, group_id, translation_item, translation_text, translation_enabled, date_created, date_modified)\n",
      "                            VALUES (3, 5, 'input_msisdn_placeholder', '{portalInfo.country.phoneDigitsExample}', 1, CURRENT_TIMESTAMP, CURRENT_TIMESTAMP);\n",
      "                            \n",
      "\n",
      "                            INSERT INTO tr_translation (language_id, group_id, translation_item, translation_text, translation_enabled, date_created, date_modified)\n",
      "                            VALUES (4, 5, 'input_msisdn_placeholder', '{portalInfo.country.phoneDigitsExample}', 1, CURRENT_TIMESTAMP, CURRENT_TIMESTAMP);\n",
      "                            \n",
      "\n",
      "                            INSERT INTO tr_translation (language_id, group_id, translation_item, translation_text, translation_enabled, date_created, date_modified)\n",
      "                            VALUES (5, 5, 'input_msisdn_placeholder', '{portalInfo.country.phoneDigitsExample}', 1, CURRENT_TIMESTAMP, CURRENT_TIMESTAMP);\n",
      "                            \n",
      "\n",
      "                            INSERT INTO tr_translation (language_id, group_id, translation_item, translation_text, translation_enabled, date_created, date_modified)\n",
      "                            VALUES (6, 5, 'input_msisdn_placeholder', '{portalInfo.country.phoneDigitsExample}', 1, CURRENT_TIMESTAMP, CURRENT_TIMESTAMP);\n",
      "                            \n",
      "Consultas de inserción en tr_translation ejecutadas con éxito.\n"
     ]
    }
   ],
   "source": [
    "# Generar consultas SQL para tr_translation verificando la existencia\n",
    "def get_existing_translations():\n",
    "    sql_statements_translation = []\n",
    "    try:\n",
    "        with engine.connect() as connection:\n",
    "            for _, row in translations_df.iterrows():\n",
    "                for locale, column_name in csv_to_locale.items():\n",
    "                    language_id = language_map.get(locale)\n",
    "                    if language_id and not pd.isna(row[column_name]):\n",
    "                        token_parts = row['token'].split('.')\n",
    "                        group_name = token_parts[0]\n",
    "                        translation_item = '.'.join(token_parts[1:])\n",
    "                        group_id = new_group_map.get(group_name)\n",
    "\n",
    "                        if group_id:\n",
    "                            translation_text_raw = row[column_name]\n",
    "                            translation_text = translation_text_raw.replace(\"'\", \"''\")\n",
    "                            # Verificar si la traducción ya existe\n",
    "                            check_sql = f\"\"\"\n",
    "                            SELECT translation_text FROM tr_translation\n",
    "                            WHERE language_id = {language_id} AND group_id = {group_id} AND translation_item = '{translation_item}';\n",
    "                            \"\"\"\n",
    "                            result = connection.execute(text(check_sql))\n",
    "                            existing_translation = result.fetchone()\n",
    "                            if existing_translation is not None and existing_translation[0] is not None:\n",
    "                                # Si no existe, agregar la consulta de inserción\n",
    "                                existing_text = existing_translation[0]\n",
    "\n",
    "                                if normalize_and_compare(translation_text_raw, existing_text) is False:\n",
    "                                    # print(\"translation text\",translation_text_raw)\n",
    "                                    # print(\"existing text\",existing_text)\n",
    "                                    # print(\"translation item\",translation_item)\n",
    "                                    # print(\"language id\",language_id)\n",
    "                                    # print(\"group id\",group_id)\n",
    "                                    update_sql = f\"\"\"\n",
    "                                    UPDATE tr_translation\n",
    "                                    SET translation_text = '{translation_text}', date_modified = CURRENT_TIMESTAMP\n",
    "                                    WHERE language_id = {language_id} AND group_id = {group_id} AND translation_item = '{translation_item} AND translation_text = '{existing_text}';\n",
    "                                    \"\"\"\n",
    "                                    sql_statements_translation.append(update_sql)\n",
    "                            else :\n",
    "                                insert_sql = f\"\"\"\n",
    "                                INSERT INTO tr_translation (language_id, group_id, translation_item, translation_text, translation_enabled, date_created, date_modified)\n",
    "                                VALUES ({language_id}, {group_id}, '{translation_item}', '{translation_text}', 1, CURRENT_TIMESTAMP, CURRENT_TIMESTAMP);\n",
    "                                \"\"\"\n",
    "                                sql_statements_translation.append(insert_sql)\n",
    "            # Ejecutar las consultas de inserción\n",
    "            print(\"Total consultas de inserción en tr_translation:\", len(sql_statements_translation))\n",
    "            return sql_statements_translation , connection\n",
    "    except Exception as e:\n",
    "        print(\"Error al verificar o insertar en tr_translation:\", e)"
   ]
  },
  {
   "cell_type": "code",
   "execution_count": null,
   "metadata": {},
   "outputs": [],
   "source": [
    "sql_statements_translation, connection = get_existing_translations()\n",
    "try:\n",
    "    for sql in sql_statements_translation:\n",
    "        connection.execute(text(sql))\n",
    "    connection.commit()\n",
    "    print(\"Consultas de inserción ejecutadas con éxito.\")\n",
    "    connection.close()\n",
    "except Exception as e:\n",
    "    print(\"Error al ejecutar consultas de inserción:\", e)"
   ]
  }
 ],
 "metadata": {
  "kernelspec": {
   "display_name": "Python 3",
   "language": "python",
   "name": "python3"
  },
  "language_info": {
   "codemirror_mode": {
    "name": "ipython",
    "version": 3
   },
   "file_extension": ".py",
   "mimetype": "text/x-python",
   "name": "python",
   "nbconvert_exporter": "python",
   "pygments_lexer": "ipython3",
   "version": "3.9.6"
  }
 },
 "nbformat": 4,
 "nbformat_minor": 2
}
